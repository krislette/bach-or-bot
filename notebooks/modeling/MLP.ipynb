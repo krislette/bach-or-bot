{
 "cells": [
  {
   "cell_type": "code",
   "execution_count": null,
   "metadata": {
    "id": "KpqpV7ErDq7H"
   },
   "outputs": [],
   "source": [
    "import numpy as np\n",
    "import pandas as pd"
   ]
  },
  {
   "cell_type": "code",
   "execution_count": null,
   "metadata": {
    "colab": {
     "base_uri": "https://localhost:8080/",
     "height": 363
    },
    "id": "4hnuxsI6EFHT",
    "outputId": "b993b538-9761-40e9-c72c-a3b351b73552"
   },
   "outputs": [],
   "source": [
    "df = pd.read_csv('/content/Iris.csv') # Access the file\n",
    "# df = df.sample(frac=1) (To shuffle the dataset)\n",
    "df.head(10) # Call 10 data"
   ]
  },
  {
   "cell_type": "code",
   "execution_count": null,
   "metadata": {
    "colab": {
     "base_uri": "https://localhost:8080/",
     "height": 423
    },
    "id": "Hp3eu4vtEFJd",
    "outputId": "2fe38565-a512-42aa-9617-7964b3d3b27d"
   },
   "outputs": [],
   "source": [
    "# Convert features to numerical format\n",
    "\n",
    "# One-hot encoding\n",
    "y = pd.get_dummies(df[\"Species\"])\n",
    "y"
   ]
  },
  {
   "cell_type": "code",
   "execution_count": null,
   "metadata": {
    "colab": {
     "base_uri": "https://localhost:8080/",
     "height": 423
    },
    "id": "RGQI13rCEFMw",
    "outputId": "8ed14972-d928-441a-f624-af05967ad7b0"
   },
   "outputs": [],
   "source": [
    "# Removing unnecessary data\n",
    "\n",
    "x = df.drop([\"Id\", \"Species\"], axis=1)\n",
    "x"
   ]
  },
  {
   "cell_type": "code",
   "execution_count": null,
   "metadata": {
    "id": "xRJJAl_eEFWf"
   },
   "outputs": [],
   "source": [
    "# Split our dataset\n",
    "from sklearn.model_selection import train_test_split\n",
    "x_train, x_test, y_train, y_test = train_test_split(x, y, train_size=0.3)"
   ]
  },
  {
   "cell_type": "code",
   "execution_count": null,
   "metadata": {
    "colab": {
     "base_uri": "https://localhost:8080/",
     "height": 1000
    },
    "id": "s1aJ6k7fEFZN",
    "outputId": "9c8ec913-4d1d-476a-c9af-28d5e395eead"
   },
   "outputs": [],
   "source": [
    "x_train"
   ]
  },
  {
   "cell_type": "code",
   "execution_count": null,
   "metadata": {
    "colab": {
     "base_uri": "https://localhost:8080/",
     "height": 1000
    },
    "id": "Tasc4HTnEFbc",
    "outputId": "08877c0b-398b-4a3b-d464-74f359d64bbd"
   },
   "outputs": [],
   "source": [
    "y_train"
   ]
  },
  {
   "cell_type": "code",
   "execution_count": null,
   "metadata": {
    "id": "r9tS5rELEFe5"
   },
   "outputs": [],
   "source": [
    "# Creating a model --> MULTILAYER PERCEPTRON\n",
    "from keras.models import Sequential # Allows us to create layers of neural network\n",
    "from keras.layers import Dense # Dense layer basically means our hidden layer\n",
    "# keras allows us to stack layers of nueral netork on one another using sequential API"
   ]
  },
  {
   "cell_type": "code",
   "execution_count": null,
   "metadata": {
    "colab": {
     "base_uri": "https://localhost:8080/"
    },
    "id": "j0H8uWm9EFlM",
    "outputId": "2916b197-18ea-46bd-da34-ef3435206f22"
   },
   "outputs": [],
   "source": [
    "model = Sequential()\n",
    "model.add(Dense(6, activation=\"sigmoid\")) # Hidden layer and activation\n",
    "model.add(Dense(3, activation=\"softmax\")) # Output layer and activation\n",
    "\n",
    "model.compile(loss=\"categorical_crossentropy\", metrics=[\"accuracy\"])\n",
    "model.fit(x_train, y_train, epochs=25, batch_size=5)"
   ]
  },
  {
   "cell_type": "code",
   "execution_count": null,
   "metadata": {
    "colab": {
     "base_uri": "https://localhost:8080/"
    },
    "id": "nyqGUQD7EFnV",
    "outputId": "f883d901-f13b-4580-87bf-3d48eaef825f"
   },
   "outputs": [],
   "source": [
    "score = model.evaluate(x_test, y_test)\n",
    "print(\"ACCURACY: \", score)"
   ]
  },
  {
   "cell_type": "markdown",
   "metadata": {
    "id": "q6cg4u4mTHy3"
   },
   "source": []
  },
  {
   "cell_type": "code",
   "execution_count": null,
   "metadata": {
    "colab": {
     "base_uri": "https://localhost:8080/",
     "height": 206
    },
    "id": "Ds85tIapEFpc",
    "outputId": "5055815e-5763-4dd5-9b6d-8e241423084c"
   },
   "outputs": [],
   "source": [
    "df.head(5)"
   ]
  },
  {
   "cell_type": "code",
   "execution_count": null,
   "metadata": {
    "colab": {
     "base_uri": "https://localhost:8080/",
     "height": 206
    },
    "id": "t1jAiiC1EFs-",
    "outputId": "47cdfe85-5067-4eb0-f063-7ace8f67429d"
   },
   "outputs": [],
   "source": [
    "y.head(5)"
   ]
  },
  {
   "cell_type": "code",
   "execution_count": null,
   "metadata": {
    "colab": {
     "base_uri": "https://localhost:8080/"
    },
    "id": "LVXP9P5hEF5n",
    "outputId": "d74e14d9-94de-41b9-c132-fbfb25ffdbcd"
   },
   "outputs": [],
   "source": [
    "# Try to predict some values\n",
    "i = model.predict(np.array([[5.1, 3.5, 1.4, 0.2]]))\n",
    "i"
   ]
  },
  {
   "cell_type": "code",
   "execution_count": null,
   "metadata": {
    "id": "m5kW5LzgEF7w"
   },
   "outputs": [],
   "source": []
  },
  {
   "cell_type": "code",
   "execution_count": null,
   "metadata": {
    "id": "iWkoFL7FEF_H"
   },
   "outputs": [],
   "source": []
  }
 ],
 "metadata": {
  "accelerator": "GPU",
  "colab": {
   "gpuType": "T4",
   "provenance": []
  },
  "kernelspec": {
   "display_name": "Python 3",
   "name": "python3"
  },
  "language_info": {
   "name": "python"
  }
 },
 "nbformat": 4,
 "nbformat_minor": 0
}
