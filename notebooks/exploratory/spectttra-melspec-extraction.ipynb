{
 "cells": [
  {
   "cell_type": "markdown",
   "id": "0",
   "metadata": {},
   "source": [
    "# SpecTTTra: Extracting Mel-Spectrogram from Audio Input"
   ]
  },
  {
   "cell_type": "markdown",
   "id": "1",
   "metadata": {},
   "source": [
    "## 1. Import Required Libraries\n",
    "\n",
    "Import essential Python libraries such as `librosa` for audio processing, `matplotlib` for visualization, and `numpy` for numerical operations."
   ]
  },
  {
   "cell_type": "code",
   "execution_count": null,
   "id": "2",
   "metadata": {},
   "outputs": [],
   "source": [
    "import librosa\n",
    "import IPython.display as ipd\n",
    "import numpy as np \n",
    "import matplotlib.pyplot as plt"
   ]
  },
  {
   "cell_type": "markdown",
   "id": "3",
   "metadata": {},
   "source": [
    "## 2. Load and Play Audio File\n",
    "Specify the path to the audio file and use IPython.display.Audio to play the sound directly inside the notebook."
   ]
  },
  {
   "cell_type": "code",
   "execution_count": null,
   "id": "4",
   "metadata": {},
   "outputs": [],
   "source": [
    "audio_file = \"audio/folded.wav\"\n",
    "ipd.Audio(audio_file)"
   ]
  },
  {
   "cell_type": "markdown",
   "id": "5",
   "metadata": {},
   "source": [
    "## 3. Read Audio Data Using Librosa\n",
    "Load the audio file as a time-series waveform and retrieve its sampling rate using `librosa.load()`."
   ]
  },
  {
   "cell_type": "code",
   "execution_count": null,
   "id": "6",
   "metadata": {},
   "outputs": [],
   "source": [
    "# Load audio file with librosa\n",
    "folded, sr = librosa.load(audio_file)"
   ]
  },
  {
   "cell_type": "markdown",
   "id": "7",
   "metadata": {},
   "source": [
    "## 4. Compute Short-Time Fourier Transform (STFT)\n",
    "Define frame and hop sizes, then use `librosa.stft()` to convert the time-domain signal into a time–frequency representation."
   ]
  },
  {
   "cell_type": "code",
   "execution_count": null,
   "id": "8",
   "metadata": {},
   "outputs": [],
   "source": [
    "FRAME_SIZE = 2048\n",
    "HOP_SIZE = 512\n",
    "S_folded = librosa.stft(folded, n_fft=FRAME_SIZE, hop_length=HOP_SIZE)\n",
    "S_folded.shape"
   ]
  },
  {
   "cell_type": "markdown",
   "id": "9",
   "metadata": {},
   "source": [
    "## 5. Check the Data Type of STFT Output\n",
    "Verify the type of the STFT array elements to understand the data structure (complex numbers representing frequency and phase information)."
   ]
  },
  {
   "cell_type": "code",
   "execution_count": null,
   "id": "10",
   "metadata": {},
   "outputs": [],
   "source": [
    "type(S_folded[0][0])"
   ]
  },
  {
   "cell_type": "markdown",
   "id": "11",
   "metadata": {},
   "source": [
    "## 6. Convert STFT to Power Spectrogram\n",
    "Compute the power (energy) of the spectrogram by taking the squared magnitude of the STFT values."
   ]
  },
  {
   "cell_type": "code",
   "execution_count": null,
   "id": "12",
   "metadata": {},
   "outputs": [],
   "source": [
    "Y_folded = np.abs(S_folded) ** 2\n",
    "Y_folded.shape"
   ]
  },
  {
   "cell_type": "markdown",
   "id": "13",
   "metadata": {},
   "source": [
    "## 7. Inspect the Data Type of Power Spectrogram\n",
    "Confirm the new data type of the power spectrogram after magnitude-squaring the STFT output."
   ]
  },
  {
   "cell_type": "code",
   "execution_count": null,
   "id": "14",
   "metadata": {},
   "outputs": [],
   "source": [
    "type(Y_folded[0][0])"
   ]
  },
  {
   "cell_type": "markdown",
   "id": "15",
   "metadata": {},
   "source": [
    "## 8. Define a function to pot spectrograms\n",
    "Create a helper function `plot_spectrogram()` that uses `librosa.display.specshow()` to visualize the spectrogram with customizable axes and color scaling."
   ]
  },
  {
   "cell_type": "code",
   "execution_count": null,
   "id": "16",
   "metadata": {},
   "outputs": [],
   "source": [
    "def plot_spectrogram(Y, sr, hop_length, y_axis=\"linear\"):\n",
    "    plt.figure(figsize=(25, 10))\n",
    "    librosa.display.specshow(Y, \n",
    "                             sr=sr, \n",
    "                             hop_length=hop_length, \n",
    "                             x_axis=\"time\", \n",
    "                             y_axis=y_axis)\n",
    "    plt.colorbar(format=\"%+2.f\")"
   ]
  },
  {
   "cell_type": "markdown",
   "id": "17",
   "metadata": {},
   "source": [
    "## 9. Visualize the linear-frequency spectrogram\n",
    "Plot the computed power spectrogram to visualize frequency energy distribution over time using a linear frequency scale."
   ]
  },
  {
   "cell_type": "code",
   "execution_count": null,
   "id": "18",
   "metadata": {},
   "outputs": [],
   "source": [
    "plot_spectrogram(Y_folded, sr, HOP_SIZE)"
   ]
  },
  {
   "cell_type": "markdown",
   "id": "19",
   "metadata": {},
   "source": [
    "## 10. Convert Power Spectrogram to Decibel Scale\n",
    "Apply logarithmic scaling via `librosa.power_to_db()` to better represent human perception of loudness and then plot it."
   ]
  },
  {
   "cell_type": "code",
   "execution_count": null,
   "id": "20",
   "metadata": {},
   "outputs": [],
   "source": [
    "Y_log_folded = librosa.power_to_db(Y_folded)\n",
    "plot_spectrogram(Y_log_folded, sr, HOP_SIZE)"
   ]
  },
  {
   "cell_type": "markdown",
   "id": "21",
   "metadata": {},
   "source": [
    "## 11. Display the Log-Scaled Spectrogram in Log Frequency Axis\n",
    "Re-plot the decibel-scaled spectrogram using a logarithmic frequency axis to highlight both low- and high-frequency components more effectively."
   ]
  },
  {
   "cell_type": "code",
   "execution_count": null,
   "id": "22",
   "metadata": {},
   "outputs": [],
   "source": [
    "plot_spectrogram(Y_log_folded, sr, HOP_SIZE, y_axis=\"log\")"
   ]
  }
 ],
 "metadata": {
  "kernelspec": {
   "display_name": "Python 3",
   "language": "python",
   "name": "python3"
  },
  "language_info": {
   "codemirror_mode": {
    "name": "ipython",
    "version": 3
   },
   "file_extension": ".py",
   "mimetype": "text/x-python",
   "name": "python",
   "nbconvert_exporter": "python",
   "pygments_lexer": "ipython3",
   "version": "3.11.5"
  }
 },
 "nbformat": 4,
 "nbformat_minor": 5
}
